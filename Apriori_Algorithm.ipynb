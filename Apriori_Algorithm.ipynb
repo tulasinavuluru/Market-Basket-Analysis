{
  "nbformat": 4,
  "nbformat_minor": 0,
  "metadata": {
    "colab": {
      "provenance": []
    },
    "kernelspec": {
      "name": "python3",
      "display_name": "Python 3"
    },
    "language_info": {
      "name": "python"
    }
  },
  "cells": [
    {
      "cell_type": "code",
      "execution_count": 1,
      "metadata": {
        "colab": {
          "base_uri": "https://localhost:8080/"
        },
        "id": "QIaSjx03189G",
        "outputId": "3eaf81f6-a5cd-41c8-a78b-04d98a81ff20"
      },
      "outputs": [
        {
          "output_type": "stream",
          "name": "stdout",
          "text": [
            "            beer          wine        cheese Unnamed: 3    Unnamed: 4\n",
            "0           beer  potato chips           NaN        NaN           NaN\n",
            "1           eggs         flour        butter     cheese           NaN\n",
            "2           eggs         flour        butter       beer  potato chips\n",
            "3           wine        cheese           NaN        NaN           NaN\n",
            "4   potato chips           NaN           NaN        NaN           NaN\n",
            "5           eggs         flour        butter       wine        cheese\n",
            "6           eggs         flour        butter       beer  potato chips\n",
            "7           wine          beer           NaN        NaN           NaN\n",
            "8           beer  potato chips           NaN        NaN           NaN\n",
            "9         butter          eggs           NaN        NaN           NaN\n",
            "10          beer  potato chips           NaN        NaN           NaN\n",
            "11         flour          eggs           NaN        NaN           NaN\n",
            "12          beer  potato chips           NaN        NaN           NaN\n",
            "13          eggs         flour        butter       wine        cheese\n",
            "14          beer          wine  potato chips     cheese           NaN\n",
            "15          wine        cheese           NaN        NaN           NaN\n",
            "16          beer  potato chips           NaN        NaN           NaN\n",
            "17          wine        cheese           NaN        NaN           NaN\n",
            "18          beer  potato chips           NaN        NaN           NaN\n"
          ]
        }
      ],
      "source": [
        "import pandas as pd\n",
        "from mlxtend.preprocessing import TransactionEncoder\n",
        "from mlxtend.frequent_patterns import apriori, association_rules\n",
        "\n",
        "# Load the data from Excel into a DataFrame\n",
        "data = pd.read_excel('/content/sample_data/AprioriAlg.xlsx')\n",
        "print(data)"
      ]
    },
    {
      "cell_type": "code",
      "source": [
        "import pandas as pd\n",
        "\n",
        "# Load the data from Excel into a DataFrame\n",
        "data = pd.read_excel('/content/sample_data/AprioriAlg.xlsx', header=None)\n",
        "\n",
        "# Preprocess the data: Remove NaN values and convert to a list of lists\n",
        "transactions = data.apply(lambda row: [item for item in row.dropna()], axis=1)\n",
        "\n",
        "# Flatten the transaction data into a single list\n",
        "all_products = [item for sublist in transactions for item in sublist]\n",
        "\n",
        "# Count occurrences per product using Counter\n",
        "product_occurrences = Counter(all_products)\n",
        "\n",
        "# Convert Counter to a regular dictionary and combine occurrences of duplicates\n",
        "combined_product_occurrences = {}\n",
        "for product, count in product_occurrences.items():\n",
        "    if product in combined_product_occurrences:\n",
        "        combined_product_occurrences[product] += count\n",
        "    else:\n",
        "        combined_product_occurrences[product] = count\n",
        "\n",
        "# Display the occurrences per product\n",
        "print(\"Occurrences per product:\")\n",
        "for product, count in combined_product_occurrences.items():\n",
        "    print(f\"{product}: {count}\")\n"
      ],
      "metadata": {
        "colab": {
          "base_uri": "https://localhost:8080/"
        },
        "id": "eFYG_gEQ3ru4",
        "outputId": "5704575c-3d9d-442f-ec86-3963f503d75d"
      },
      "execution_count": 2,
      "outputs": [
        {
          "output_type": "stream",
          "name": "stdout",
          "text": [
            "Occurrences per product:\n",
            "beer: 11\n",
            "wine: 8\n",
            "cheese: 8\n",
            "potato chips: 10\n",
            "eggs: 7\n",
            "flour: 6\n",
            "butter: 6\n"
          ]
        },
        {
          "output_type": "stream",
          "name": "stderr",
          "text": [
            "/usr/local/lib/python3.10/dist-packages/ipykernel/ipkernel.py:283: DeprecationWarning: `should_run_async` will not call `transform_cell` automatically in the future. Please pass the result to `transformed_cell` argument and any exception that happen during thetransform in `preprocessing_exc_tuple` in IPython 7.17 and above.\n",
            "  and should_run_async(code)\n"
          ]
        }
      ]
    },
    {
      "cell_type": "code",
      "source": [
        "import pandas as pd\n",
        "from collections import Counter\n",
        "from itertools import combinations\n",
        "\n",
        "# Load the data from Excel into a DataFrame\n",
        "data = pd.read_excel('/content/sample_data/AprioriAlg.xlsx', header=None)\n",
        "\n",
        "# Preprocess the data: Remove NaN values and convert to a list of lists\n",
        "transactions = data.apply(lambda row: [item for item in row.dropna()], axis=1)\n",
        "\n",
        "# Flatten the transaction data into a single list\n",
        "all_products = [item for sublist in transactions for item in sublist]\n",
        "\n",
        "# Count occurrences per product using Counter\n",
        "product_occurrences = Counter(all_products)\n",
        "\n",
        "# Set minimum support count to 7\n",
        "min_support = 7\n",
        "\n",
        "# Get frequent individual products\n",
        "frequent_individual_products = {product for product, count in product_occurrences.items() if count >= min_support}\n",
        "\n",
        "# Generate all possible pairs of frequent individual products\n",
        "frequent_pairs = list(combinations(frequent_individual_products, 2))\n",
        "\n",
        "# Filter out pairs that contain any non-frequent items\n",
        "frequent_pairs_filtered = []\n",
        "for pair in frequent_pairs:\n",
        "    if all(item in frequent_individual_products for item in pair):\n",
        "        frequent_pairs_filtered.append(pair)\n",
        "\n",
        "# Combine frequent individual products and frequent pairs into a single list of itemsets\n",
        "frequent_itemsets = list(frequent_individual_products) + frequent_pairs_filtered\n",
        "# print(\"T\",transactions)\n",
        "# print(\"F\",frequent_itemsets)\n",
        "# Count occurrences for each itemset in the transactions\n",
        "itemset_occurrences = Counter()\n",
        "for itemset in frequent_itemsets:\n",
        "    for transaction in transactions:\n",
        "        if set(itemset).issubset(transaction):\n",
        "            itemset_occurrences[itemset] += 1\n",
        "\n",
        "# Display the occurrences per itemset after excluding items with min support less than 7\n",
        "print(\"Occurrences per itemset (with min support >= 7):\")\n",
        "for itemset, count in itemset_occurrences.items():\n",
        "    print(f\"{itemset}: {count}\")\n"
      ],
      "metadata": {
        "colab": {
          "base_uri": "https://localhost:8080/"
        },
        "id": "IRUVSLop-CFz",
        "outputId": "ee1a1b2a-170d-481b-f6ab-bf53d690a126"
      },
      "execution_count": 3,
      "outputs": [
        {
          "output_type": "stream",
          "name": "stdout",
          "text": [
            "Occurrences per itemset (with min support >= 7):\n",
            "('beer', 'wine'): 3\n",
            "('beer', 'cheese'): 2\n",
            "('beer', 'potato chips'): 9\n",
            "('beer', 'eggs'): 2\n",
            "('wine', 'cheese'): 7\n",
            "('wine', 'potato chips'): 1\n",
            "('wine', 'eggs'): 2\n",
            "('cheese', 'potato chips'): 1\n",
            "('cheese', 'eggs'): 3\n",
            "('potato chips', 'eggs'): 2\n"
          ]
        },
        {
          "output_type": "stream",
          "name": "stderr",
          "text": [
            "/usr/local/lib/python3.10/dist-packages/ipykernel/ipkernel.py:283: DeprecationWarning: `should_run_async` will not call `transform_cell` automatically in the future. Please pass the result to `transformed_cell` argument and any exception that happen during thetransform in `preprocessing_exc_tuple` in IPython 7.17 and above.\n",
            "  and should_run_async(code)\n"
          ]
        }
      ]
    },
    {
      "cell_type": "code",
      "source": [
        "two_set_min_support={}\n",
        "for key in itemset_occurrences:\n",
        " if(itemset_occurrences[key]>=7):\n",
        "  two_set_min_support[key]=itemset_occurrences[key]\n",
        "print(\"The itemsets with minimum support >=7 are:\",two_set_min_support)\n",
        "\n",
        "three_set={}\n",
        "for key in two_set_min_support:\n",
        "  for key2 in two_set_min_support:\n",
        "    if key!=key2 and len(set(key) & set(key2))>=1:\n",
        "      three_set[set(key) | set(key2)]=0\n",
        "\n",
        "if len(three_set)==0:\n",
        "  print(\"No 3 set can be formed\")\n",
        "else:\n",
        "  for itemset in three_set:\n",
        "      for transaction in transactions:\n",
        "          if set(itemset).issubset(transaction):\n",
        "              three_set[itemset] += 1\n"
      ],
      "metadata": {
        "colab": {
          "base_uri": "https://localhost:8080/"
        },
        "id": "nrT_5nQPvPVx",
        "outputId": "e404a53c-b4aa-4dc9-ae06-7d7664729fc5"
      },
      "execution_count": 4,
      "outputs": [
        {
          "output_type": "stream",
          "name": "stdout",
          "text": [
            "The itemsets with minimum support >=7 are: {('beer', 'potato chips'): 9, ('wine', 'cheese'): 7}\n",
            "No 3 set can be formed\n"
          ]
        },
        {
          "output_type": "stream",
          "name": "stderr",
          "text": [
            "/usr/local/lib/python3.10/dist-packages/ipykernel/ipkernel.py:283: DeprecationWarning: `should_run_async` will not call `transform_cell` automatically in the future. Please pass the result to `transformed_cell` argument and any exception that happen during thetransform in `preprocessing_exc_tuple` in IPython 7.17 and above.\n",
            "  and should_run_async(code)\n"
          ]
        }
      ]
    },
    {
      "cell_type": "code",
      "source": [
        "# Complete code\n",
        "\n",
        "import pandas as pd\n",
        "from collections import Counter\n",
        "from itertools import combinations\n",
        "\n",
        "# Load the data from Excel into a DataFrame\n",
        "data = pd.read_excel('/content/sample_data/AprioriAlg.xlsx', header=None)\n",
        "\n",
        "# Preprocess the data: Remove NaN values and convert to a list of lists\n",
        "transactions = data.apply(lambda row: [item for item in row.dropna()], axis=1)\n",
        "\n",
        "# Flatten the transaction data into a single list\n",
        "all_products = [item for sublist in transactions for item in sublist]\n",
        "\n",
        "# Count occurrences per product using Counter\n",
        "product_occurrences = Counter(all_products)\n",
        "\n",
        "# Set minimum support count to 7\n",
        "min_support = 7\n",
        "\n",
        "# Get frequent individual products\n",
        "frequent_individual_products = {product for product, count in product_occurrences.items() if count >= min_support}\n",
        "\n",
        "# Generate all possible pairs of frequent individual products\n",
        "frequent_pairs = list(combinations(frequent_individual_products, 2))\n",
        "\n",
        "# Filter out pairs that contain any non-frequent items\n",
        "frequent_pairs_filtered = []\n",
        "for pair in frequent_pairs:\n",
        "    if all(item in frequent_individual_products for item in pair):\n",
        "        frequent_pairs_filtered.append(pair)\n",
        "\n",
        "# Combine frequent individual products and frequent pairs into a single list of itemsets\n",
        "frequent_itemsets = list(frequent_individual_products) + frequent_pairs_filtered\n",
        "\n",
        "# Count occurrences for each itemset in the transactions\n",
        "itemset_occurrences = Counter()\n",
        "for itemset in frequent_itemsets:\n",
        "    for transaction in transactions:\n",
        "        if set(itemset).issubset(transaction):\n",
        "            itemset_occurrences[itemset] += 1\n",
        "\n",
        "# Display the occurrences per itemset after excluding items with min support less than 7\n",
        "print(\"Occurrences per itemset (with min support >= 7):\")\n",
        "for itemset, count in itemset_occurrences.items():\n",
        "    print(f\"{itemset}: {count}\")\n",
        "\n",
        "two_set_min_support = {}\n",
        "for key in itemset_occurrences:\n",
        "    if itemset_occurrences[key] >= 7:\n",
        "        two_set_min_support[key] = itemset_occurrences[key]\n",
        "if len(three_set)==0:\n",
        "  print(\"No 3 set can be formed\")\n",
        "else:\n",
        "  for itemset in three_set:\n",
        "      for transaction in transactions:\n",
        "          if set(itemset).issubset(transaction):\n",
        "              three_set[itemset] += 1\n",
        "\n",
        "print(\"The itemsets with minimum support >= 7 are:\", two_set_min_support)\n",
        "\n",
        "# Set minimum confidence to 0.85 (85%)\n",
        "min_confidence = 0.85\n",
        "\n",
        "# Generate association rules and compute confidence\n",
        "association_rules = []\n",
        "for itemset in two_set_min_support:\n",
        "    itemset_support = two_set_min_support[itemset]\n",
        "    for item in itemset:\n",
        "        antecedent = frozenset([item])\n",
        "        consequent = set(itemset) - antecedent\n",
        "        antecedent_support = product_occurrences[item]\n",
        "        confidence = itemset_support / antecedent_support if antecedent_support != 0 else 0\n",
        "        if confidence >= min_confidence:\n",
        "            association_rules.append((antecedent, consequent, confidence))\n",
        "\n",
        "# Display the association rules and their confidence\n",
        "print(\"Association Rules with confidence >= 85%:\")\n",
        "for rule in association_rules:\n",
        "    antecedent = ', '.join(list(rule[0]))\n",
        "    consequent = ', '.join(list(rule[1]))\n",
        "    confidence = rule[2]\n",
        "    print(f\"{antecedent} -> {consequent}, Confidence: {confidence:.2f}\")\n"
      ],
      "metadata": {
        "colab": {
          "base_uri": "https://localhost:8080/"
        },
        "id": "EYjT8WHzTXM4",
        "outputId": "4f8fc05c-bc66-4aab-dda7-b69212c13733"
      },
      "execution_count": 23,
      "outputs": [
        {
          "output_type": "stream",
          "name": "stderr",
          "text": [
            "/usr/local/lib/python3.10/dist-packages/ipykernel/ipkernel.py:283: DeprecationWarning: `should_run_async` will not call `transform_cell` automatically in the future. Please pass the result to `transformed_cell` argument and any exception that happen during thetransform in `preprocessing_exc_tuple` in IPython 7.17 and above.\n",
            "  and should_run_async(code)\n"
          ]
        },
        {
          "output_type": "stream",
          "name": "stdout",
          "text": [
            "Occurrences per itemset (with min support >= 7):\n",
            "('beer', 'wine'): 3\n",
            "('beer', 'cheese'): 2\n",
            "('beer', 'potato chips'): 9\n",
            "('beer', 'eggs'): 2\n",
            "('wine', 'cheese'): 7\n",
            "('wine', 'potato chips'): 1\n",
            "('wine', 'eggs'): 2\n",
            "('cheese', 'potato chips'): 1\n",
            "('cheese', 'eggs'): 3\n",
            "('potato chips', 'eggs'): 2\n",
            "No 3 set can be formed\n",
            "The itemsets with minimum support >= 7 are: {('beer', 'potato chips'): 9, ('wine', 'cheese'): 7}\n",
            "Association Rules with confidence >= 85%:\n",
            "potato chips -> beer, Confidence: 0.90\n",
            "wine -> cheese, Confidence: 0.88\n",
            "cheese -> wine, Confidence: 0.88\n"
          ]
        }
      ]
    }
  ]
}